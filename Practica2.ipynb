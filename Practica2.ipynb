{
  "nbformat": 4,
  "nbformat_minor": 0,
  "metadata": {
    "colab": {
      "name": "Untitled1.ipynb",
      "provenance": [],
      "collapsed_sections": []
    },
    "kernelspec": {
      "name": "python3",
      "display_name": "Python 3"
    }
  },
  "cells": [
    {
      "cell_type": "markdown",
      "metadata": {
        "id": "OAAlbQPbTdmL"
      },
      "source": [
        "\n",
        "1) Escribir un programa que me permita aplicar el 10% de descuento si la compra total es mayor a $100."
      ]
    },
    {
      "cell_type": "code",
      "metadata": {
        "id": "-lUNu0zSTXjC",
        "outputId": "5b3dba95-539e-4bea-f9fd-e76fe8546394",
        "colab": {
          "base_uri": "https://localhost:8080/"
        }
      },
      "source": [
        "compra = 110\n",
        "if compra > 100:\n",
        "  print(compra*0.9)"
      ],
      "execution_count": 8,
      "outputs": [
        {
          "output_type": "stream",
          "text": [
            "99.0\n"
          ],
          "name": "stdout"
        }
      ]
    },
    {
      "cell_type": "markdown",
      "metadata": {
        "id": "TlF1Ix49UCuc"
      },
      "source": [
        "2) Sabiendo que la fórmula para obtener el área de un triángulo es a = (b x h) / 2, donde b es la longitud de la base del triángulo, y h es su altura. Escribir un programa que permita realizar el cálculo del área de un triángulo. Si el área contiene valores decimales, imprimir el resultado con dos dígitos"
      ]
    },
    {
      "cell_type": "code",
      "metadata": {
        "id": "bWSxh7GgT99S",
        "outputId": "2de53c72-97a0-41b6-c994-a22f6463f6a3",
        "colab": {
          "base_uri": "https://localhost:8080/"
        }
      },
      "source": [
        "b = 10\n",
        "h = 10\n",
        "a = (b * h) /2\n",
        "print(\"%.2f\" %a)"
      ],
      "execution_count": 10,
      "outputs": [
        {
          "output_type": "stream",
          "text": [
            "50.00\n"
          ],
          "name": "stdout"
        }
      ]
    },
    {
      "cell_type": "markdown",
      "metadata": {
        "id": "_6a9RkZ8UsBk"
      },
      "source": [
        "3) La fórmula para el Índice de Masa Corportal es IMC = kg/m2 donde kg es el peso de la persona en kilogramos y m2 es la altura en metros al cuadrado. Realizar un programa que calcula el IMC cuando se le provee el peso y la altura."
      ]
    },
    {
      "cell_type": "code",
      "metadata": {
        "id": "mCNS1zzVUvcu",
        "outputId": "2073c3c1-f4b0-4dcc-dcfc-3f8d6d498527",
        "colab": {
          "base_uri": "https://localhost:8080/"
        }
      },
      "source": [
        "print(\"Escribe el peso\")\n",
        "kg = float(input())\n",
        "print(\"Escribe la altura\")\n",
        "m = float(input())\n",
        "print(\"El IMC es: %.2f\" %(kg / m**2))"
      ],
      "execution_count": 16,
      "outputs": [
        {
          "output_type": "stream",
          "text": [
            "Escribe el peso\n",
            "73\n",
            "Escribe la altura\n",
            "1.79\n",
            "El IMC es: 22.78\n"
          ],
          "name": "stdout"
        }
      ]
    }
  ]
}